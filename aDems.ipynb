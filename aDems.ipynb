{
 "cells": [
  {
   "cell_type": "markdown",
   "metadata": {},
   "source": [
    "# Streaming Anomaly Detection for the Cod-RNA dataset\n",
    "\n",
    "H. Huang and S. Kasiviswanathan, \"**Streaming Anomaly Detection Using Randomized Matrix Sketching**,\" http://bit.ly/1FaDw6S."
   ]
  },
  {
   "cell_type": "code",
   "execution_count": 3,
   "metadata": {},
   "outputs": [],
   "source": [
    "import numpy as np\n",
    "import numpy.linalg as ln\n",
    "import pandas as pd\n",
    "import sklearn.metrics as met\n",
    "import sklearn.preprocessing as preprocessing\n",
    "import sys\n",
    "import time\n",
    "from os.path import expanduser\n",
    "%matplotlib inline\n",
    "import matplotlib.pyplot as plt"
   ]
  },
  {
   "cell_type": "code",
   "execution_count": 4,
   "metadata": {},
   "outputs": [],
   "source": [
    "%load_ext autoreload\n",
    "%autoreload 2\n",
    "from stream_anomaly_detector import GlobalUpdate, RandomizedSketchUpdate, SketchUpdate"
   ]
  },
  {
   "cell_type": "markdown",
   "metadata": {},
   "source": [
    "## Data preparation\n",
    "\n",
    "CodRNA dataset is available: https://www.csie.ntu.edu.tw/~cjlin/libsvmtools/datasets/binary.html"
   ]
  },
  {
   "cell_type": "code",
   "execution_count": 48,
   "metadata": {},
   "outputs": [],
   "source": [
    "def read_CodRNA(path):\n",
    "    \"\"\"\n",
    "    Read Cod-RNA dataset with given path\n",
    "    Data format:\n",
    "        label 1:xxx 2:xxx 3:xxx ... 8:xxx\n",
    "    \"\"\"\n",
    "    X = []\n",
    "    y = []\n",
    "\n",
    "    with open(expanduser(path)) as f:\n",
    "        lines = f.readlines()\n",
    "        for line in lines:\n",
    "            l = line.rstrip().split(' ')\n",
    "            y.append(int(l[0]))\n",
    "            x = []\n",
    "            for i in range(1, 9): # 8 features in total\n",
    "                x.append(float(l[i][2:]))\n",
    "            X.append(x)\n",
    "    \n",
    "    return np.asarray(X).T, np.asarray(y)"
   ]
  },
  {
   "cell_type": "markdown",
   "metadata": {},
   "source": [
    "## Anomaly detection"
   ]
  },
  {
   "cell_type": "code",
   "execution_count": 44,
   "metadata": {},
   "outputs": [],
   "source": [
    "def show_result(y_true, y_pred, y_score):\n",
    "    print('precision = %f' % met.precision_score(y_true, y_pred))\n",
    "    print('recall = %f' % met.recall_score(y_true, y_pred))\n",
    "    print('F1 = %f' % met.f1_score(y_true, y_pred))\n",
    "    \n",
    "    fpr, tpr, _ = met.roc_curve(y_true, y_score)\n",
    "\n",
    "    print('AUC = %f' % met.auc(fpr, tpr))\n",
    "\n",
    "    fig, ax = plt.subplots()\n",
    "    ax.plot(fpr, tpr, marker='o', mew=0., markersize=2.)\n",
    "    ax.plot([0, 1], [0, 1], 'k--')\n",
    "\n",
    "    ax.set_xlabel('FP')\n",
    "    ax.set_ylabel('TP')\n",
    "    ax.grid(True)\n",
    "\n",
    "    fig.set_size_inches((5.5, 3))\n",
    "    fig.patch.set_alpha(0.0)"
   ]
  },
  {
   "cell_type": "code",
   "execution_count": 30,
   "metadata": {},
   "outputs": [],
   "source": [
    "def experiment_p(_training_samples, _testing_samples, _testing_labels, prior_anomaly_rate, algoNum):\n",
    "    \n",
    "    # initialize and train anomaly detector\n",
    "    # percentage of anomalies (0.33) is given as a prior knowledge\n",
    "    \n",
    "    if algoNum == 1:   \n",
    "        detector = GlobalUpdate(_training_samples, criterion='p', criterion_v=prior_anomaly_rate)\n",
    "#         detector = GlobalUpdate(_training_samples, criterion='p', criterion_v=0.1)\n",
    "#         detector = GlobalUpdate(_training_samples)\n",
    "    elif algoNum == 2:\n",
    "        detector = RandomizedSketchUpdate(_training_samples, criterion='p', criterion_v=prior_anomaly_rate)\n",
    "#         detector = RandomizedSketchUpdate(_training_samples, criterion='p', criterion_v=0.1)\n",
    "#         detector = RandomizedSketchUpdate(_training_samples)\n",
    "    elif algoNum == 3:\n",
    "        detector = SketchUpdate(_training_samples, criterion='p', criterion_v=prior_anomaly_rate)\n",
    "#         detector = SketchUpdate(_training_samples, criterion='p', criterion_v=0.1)\n",
    "#         detector = SketchUpdate(_training_samples)\n",
    "\n",
    "    n_test = _testing_samples.shape[1]\n",
    "    \n",
    "    print('Test on %d samples:' % n_test)\n",
    "    \n",
    "    y_true = np.array([])\n",
    "    y_pred = np.array([])\n",
    "    y_score = np.array([])\n",
    "    \n",
    "    s_time = 0.\n",
    "    n = 0\n",
    "    \n",
    "    # number of data points in each timestep is set to 5000\n",
    "    head = 0\n",
    "    step = 5000\n",
    "    while head < n_test:\n",
    "        tail = head + step\n",
    "        \n",
    "        sys.stdout.write('\\rTime %3d: [%d, %d]' % (n + 1, head, tail - 1))\n",
    "        sys.stdout.flush()\n",
    "        \n",
    "        testing_samples_epoch = _testing_samples[:, head:tail]\n",
    "        testing_labels_epoch = _testing_labels[head:tail]\n",
    "        \n",
    "        # save true labels\n",
    "#         y_true = np.append(y_true, y[test_indices[head:tail]])\n",
    "        y_true = np.append(y_true, testing_labels_epoch)\n",
    "        \n",
    "        # anomaly detection results\n",
    "        start = time.process_time() \n",
    "#         anomaly_indices, normal_indices, scores = detector.detect(X[:, test_indices[head:tail]])\n",
    "        anomaly_indices, normal_indices, scores = detector.detect(testing_samples_epoch)\n",
    "        s_time += (time.process_time() - start)\n",
    "        \n",
    "        # probability that a sample is anomaly {0, 1}\n",
    "        tmp = np.zeros(anomaly_indices.size + normal_indices.size)\n",
    "        tmp[anomaly_indices] = 1.\n",
    "        y_pred = np.append(y_pred, tmp)\n",
    "        \n",
    "        # anomaly score directly corresponds to confidence of prediction\n",
    "        y_score = np.append(y_score, scores)\n",
    "                \n",
    "        n += 1\n",
    "        head = tail\n",
    "    \n",
    "    y_true = y_true.astype(int) # {-1, 1} in integer\n",
    "        \n",
    "    sys.stdout.write('\\rAvg. detect + update time per timestep = %f [sec]' % (s_time / n))\n",
    "    sys.stdout.flush()\n",
    "    \n",
    "    return y_true, y_pred, y_score"
   ]
  },
  {
   "cell_type": "code",
   "execution_count": 31,
   "metadata": {},
   "outputs": [],
   "source": [
    "def ADMES(training_samples, testing_samples, training_labels, testing_labels, _algoNum):\n",
    "    dataSet = np.hstack((training_labels, testing_labels))\n",
    "    prior_anomaly_rate = round(np.where(dataSet == 1)[0].size/dataSet.size, 4)\n",
    "    _y_true, _y_pred, _score = experiment_p(training_samples, testing_samples, testing_labels, prior_anomaly_rate, _algoNum)\n",
    "    return _y_true, _y_pred, _score"
   ]
  },
  {
   "cell_type": "code",
   "execution_count": 32,
   "metadata": {},
   "outputs": [],
   "source": [
    "def runADMES(training_samples, training_labels, testing_samples, testing_labels, algoNum, _train_test_range):\n",
    "    \n",
    "    _train_start = 0\n",
    "    _test_start = 0\n",
    "\n",
    "    _coll_y_true = []\n",
    "    _coll_y_pred = []\n",
    "    _coll_score = []\n",
    "\n",
    "    for _train_test in _train_test_range:\n",
    "\n",
    "        _train_step = _train_test[0]\n",
    "        _test_step = _train_test[1]\n",
    "\n",
    "        _training_samples = np.transpose(training_samples[_train_start:_train_start+_train_step])\n",
    "        _training_labels = np.transpose(training_labels[_train_start:_train_start+_train_step])\n",
    "\n",
    "        _testing_samples = np.transpose(testing_samples[_test_start:_test_start+_test_step])\n",
    "        _testing_labels = np.transpose(testing_labels[_test_start:_test_start+_test_step])\n",
    "\n",
    "        _train_start += _train_step\n",
    "        _test_start += _test_step\n",
    "\n",
    "        _y_true, _y_pred, _score = ADMES(_training_samples, _testing_samples, _training_labels, _testing_labels, algoNum)\n",
    "        _coll_y_true.extend(_y_true)\n",
    "        _coll_y_pred.extend(_y_pred)\n",
    "        _coll_score.extend(_score)\n",
    "    return np.array(_coll_y_true), np.array(_coll_y_pred), np.array(_coll_score)"
   ]
  },
  {
   "cell_type": "markdown",
   "metadata": {},
   "source": [
    "##### Each activity is represented by a 46-D vector in which the first 24-D describes the time information and the following 22-D carries out the type information."
   ]
  },
  {
   "cell_type": "code",
   "execution_count": 267,
   "metadata": {},
   "outputs": [],
   "source": [
    "training_samples = np.load(\"./baselines/training_samples.npy\")\n",
    "training_labels = np.load(\"./baselines/training_labels.npy\")\n",
    "testing_samples = np.load(\"./baselines/testing_samples.npy\")\n",
    "testing_labels = np.load(\"./baselines/testing_labels.npy\")\n",
    "train_test_range = np.array([[3137, 28233],[3775,  33979],[6198,  55791],[4243,  38195],\n",
    "                            [2096,  18868],[4501,  40514],[1494,  13449],[3760,  33842],\n",
    "                            [461,  4149],[461,  4150]])"
   ]
  },
  {
   "cell_type": "markdown",
   "metadata": {},
   "source": [
    "#### Alg. 2: Global Update"
   ]
  },
  {
   "cell_type": "code",
   "execution_count": 268,
   "metadata": {},
   "outputs": [
    {
     "name": "stdout",
     "output_type": "stream",
     "text": [
      "Test on 28233 samples:\n",
      "Avg. detect + update time per timestep = 0.148689 [sec]Test on 33979 samples:\n",
      "Avg. detect + update time per timestep = 0.133860 [sec]Test on 55791 samples:\n",
      "Avg. detect + update time per timestep = 0.117338 [sec]Test on 38195 samples:\n",
      "Avg. detect + update time per timestep = 0.128888 [sec]Test on 18868 samples:\n",
      "Avg. detect + update time per timestep = 0.131016 [sec]Test on 40514 samples:\n",
      "Avg. detect + update time per timestep = 0.119278 [sec]Test on 13449 samples:\n",
      "Avg. detect + update time per timestep = 0.127451 [sec]Test on 33842 samples:\n",
      "Avg. detect + update time per timestep = 0.123884 [sec]Test on 4149 samples:\n",
      "Avg. detect + update time per timestep = 0.113528 [sec]Test on 4150 samples:\n",
      "Avg. detect + update time per timestep = 0.098200 [sec]"
     ]
    }
   ],
   "source": [
    "y_true, y_pred, scores = runADMES(training_samples, training_labels, testing_samples, testing_labels, 1, train_test_range)"
   ]
  },
  {
   "cell_type": "code",
   "execution_count": 269,
   "metadata": {},
   "outputs": [
    {
     "name": "stdout",
     "output_type": "stream",
     "text": [
      "precision = 0.008557\n",
      "recall = 0.551069\n",
      "F1 = 0.016853\n",
      "AUC = 0.762617\n"
     ]
    },
    {
     "data": {
      "image/png": "[encoded data removed]",
      "text/plain": [
       "<Figure size 396x216 with 1 Axes>"
      ]
     },
     "metadata": {
      "needs_background": "light"
     },
     "output_type": "display_data"
    }
   ],
   "source": [
    "show_result(y_true, y_pred, scores)"
   ]
  },
  {
   "cell_type": "code",
   "execution_count": 256,
   "metadata": {},
   "outputs": [
    {
     "name": "stdout",
     "output_type": "stream",
     "text": [
      "              precision    recall  f1-score   support\n",
      "\n",
      "           0       1.00      0.90      0.95    270749\n",
      "           1       0.01      0.55      0.02       421\n",
      "\n",
      "    accuracy                           0.90    271170\n",
      "   macro avg       0.50      0.73      0.48    271170\n",
      "weighted avg       1.00      0.90      0.95    271170\n",
      "\n"
     ]
    }
   ],
   "source": [
    "from sklearn.metrics import classification_report\n",
    "print(classification_report(y_true, y_pred, target_names=[\"0\", \"1\"]))"
   ]
  },
  {
   "cell_type": "code",
   "execution_count": 257,
   "metadata": {},
   "outputs": [],
   "source": [
    "np.save(\"./baselines/Global_new_3\",scores)"
   ]
  },
  {
   "cell_type": "markdown",
   "metadata": {},
   "source": [
    "#### Alg. 3: Randmized Sketch Update"
   ]
  },
  {
   "cell_type": "code",
   "execution_count": 258,
   "metadata": {},
   "outputs": [
    {
     "name": "stdout",
     "output_type": "stream",
     "text": [
      "Test on 28233 samples:\n",
      "Avg. detect + update time per timestep = 0.141589 [sec]Test on 33979 samples:\n",
      "Avg. detect + update time per timestep = 0.140959 [sec]Test on 55791 samples:\n",
      "Avg. detect + update time per timestep = 0.130816 [sec]Test on 38195 samples:\n",
      "Avg. detect + update time per timestep = 0.136155 [sec]Test on 18868 samples:\n",
      "Avg. detect + update time per timestep = 0.135064 [sec]Test on 40514 samples:\n",
      "Avg. detect + update time per timestep = 0.141806 [sec]Test on 13449 samples:\n",
      "Avg. detect + update time per timestep = 0.142802 [sec]Test on 33842 samples:\n",
      "Avg. detect + update time per timestep = 0.146812 [sec]Test on 4149 samples:\n",
      "Avg. detect + update time per timestep = 0.173438 [sec]Test on 4150 samples:\n",
      "Avg. detect + update time per timestep = 0.161454 [sec]"
     ]
    }
   ],
   "source": [
    "y_true, y_pred, scores = runADMES(training_samples, training_labels, testing_samples, testing_labels, 2, train_test_range)"
   ]
  },
  {
   "cell_type": "code",
   "execution_count": 259,
   "metadata": {},
   "outputs": [
    {
     "name": "stdout",
     "output_type": "stream",
     "text": [
      "precision = 0.008041\n",
      "recall = 0.517815\n",
      "F1 = 0.015836\n",
      "AUC = 0.785351\n"
     ]
    },
    {
     "data": {
      "image/png": "[encoded data removed]",
      "text/plain": [
       "<Figure size 396x216 with 1 Axes>"
      ]
     },
     "metadata": {
      "needs_background": "light"
     },
     "output_type": "display_data"
    }
   ],
   "source": [
    "show_result(y_true, y_pred, scores)"
   ]
  },
  {
   "cell_type": "code",
   "execution_count": 260,
   "metadata": {},
   "outputs": [
    {
     "name": "stdout",
     "output_type": "stream",
     "text": [
      "              precision    recall  f1-score   support\n",
      "\n",
      "           0       1.00      0.90      0.95    270749\n",
      "           1       0.01      0.52      0.02       421\n",
      "\n",
      "    accuracy                           0.90    271170\n",
      "   macro avg       0.50      0.71      0.48    271170\n",
      "weighted avg       1.00      0.90      0.95    271170\n",
      "\n"
     ]
    }
   ],
   "source": [
    "from sklearn.metrics import classification_report\n",
    "print(classification_report(y_true, y_pred, target_names=[\"0\", \"1\"]))"
   ]
  },
  {
   "cell_type": "code",
   "execution_count": 261,
   "metadata": {},
   "outputs": [],
   "source": [
    "np.save(\"./baselines/ADeMS_new_3\", scores)"
   ]
  },
  {
   "cell_type": "markdown",
   "metadata": {},
   "source": [
    "#### Alg. 4: Sketch Update"
   ]
  },
  {
   "cell_type": "code",
   "execution_count": 262,
   "metadata": {},
   "outputs": [
    {
     "name": "stdout",
     "output_type": "stream",
     "text": [
      "Test on 28233 samples:\n",
      "Avg. detect + update time per timestep = 0.134028 [sec]Test on 33979 samples:\n",
      "Avg. detect + update time per timestep = 0.118309 [sec]Test on 55791 samples:\n",
      "Avg. detect + update time per timestep = 0.103568 [sec]Test on 38195 samples:\n",
      "Avg. detect + update time per timestep = 0.109321 [sec]Test on 18868 samples:\n",
      "Avg. detect + update time per timestep = 0.107343 [sec]Test on 40514 samples:\n",
      "Avg. detect + update time per timestep = 0.097522 [sec]Test on 13449 samples:\n",
      "Avg. detect + update time per timestep = 0.116176 [sec]Test on 33842 samples:\n",
      "Avg. detect + update time per timestep = 0.101331 [sec]Test on 4149 samples:\n",
      "Avg. detect + update time per timestep = 0.101684 [sec]Test on 4150 samples:\n",
      "Avg. detect + update time per timestep = 0.083652 [sec]"
     ]
    }
   ],
   "source": [
    "y_true, y_pred, scores = runADMES(training_samples, training_labels, testing_samples, testing_labels, 3, train_test_range)"
   ]
  },
  {
   "cell_type": "code",
   "execution_count": 263,
   "metadata": {},
   "outputs": [
    {
     "name": "stdout",
     "output_type": "stream",
     "text": [
      "precision = 0.008041\n",
      "recall = 0.517815\n",
      "F1 = 0.015836\n",
      "AUC = 0.785351\n"
     ]
    },
    {
     "data": {
      "image/png": "[encoded data removed]",
      "text/plain": [
       "<Figure size 396x216 with 1 Axes>"
      ]
     },
     "metadata": {
      "needs_background": "light"
     },
     "output_type": "display_data"
    }
   ],
   "source": [
    "show_result(y_true, y_pred, scores)"
   ]
  },
  {
   "cell_type": "code",
   "execution_count": 264,
   "metadata": {
    "scrolled": true
   },
   "outputs": [
    {
     "name": "stdout",
     "output_type": "stream",
     "text": [
      "              precision    recall  f1-score   support\n",
      "\n",
      "           0       1.00      0.90      0.95    270749\n",
      "           1       0.01      0.52      0.02       421\n",
      "\n",
      "    accuracy                           0.90    271170\n",
      "   macro avg       0.50      0.71      0.48    271170\n",
      "weighted avg       1.00      0.90      0.95    271170\n",
      "\n"
     ]
    }
   ],
   "source": [
    "from sklearn.metrics import classification_report\n",
    "print(classification_report(y_true, y_pred, target_names=[\"0\", \"1\"]))"
   ]
  },
  {
   "cell_type": "code",
   "execution_count": 265,
   "metadata": {},
   "outputs": [],
   "source": [
    "np.save(\"./baselines/RandADeMS_new_3.npy\",scores)"
   ]
  },
  {
   "cell_type": "markdown",
   "metadata": {},
   "source": [
    "##### On wiki-dataset."
   ]
  },
  {
   "cell_type": "code",
   "execution_count": 2,
   "metadata": {},
   "outputs": [],
   "source": [
    "import numpy as np"
   ]
  },
  {
   "cell_type": "markdown",
   "metadata": {},
   "source": [
    "##### dataset description\n",
    "    - Feature: each record, a two-dimension vector, describes one editing activity in which the first dimension indicates the exact editing physical time and the second one denotes the page type which is being edited, a regular page or a meta one.\n",
    "    - Label: if the page editing is revertd later, this editing activity is marked as malicious(1); otherwise, it will be labelled as normal(0). "
   ]
  },
  {
   "cell_type": "code",
   "execution_count": 110,
   "metadata": {},
   "outputs": [],
   "source": [
    "metroSystem = np.load(\"./data/Wiki_dataset/wiki/List_of_metro_systems.npy\")\n",
    "louisCardinals = np.load(\"./data/Wiki_dataset/wiki/St._Louis_Cardinals.npy\")\n",
    "starTrekIntoDarkness = np.load(\"./data/Wiki_dataset/wiki/Star_Trek_Into_Darkness.npy\")\n",
    "metroSystemLabel = np.load(\"./data/Wiki_dataset/wiki_label/label_List_of_metro_systems.npy\")\n",
    "louisCardinalsLabel = np.load(\"./data/Wiki_dataset/wiki_label/label_St._Louis_Cardinals.npy\")\n",
    "starTrekIntoDarknessLabel = np.load(\"./data/Wiki_dataset/wiki_label/label_Star_Trek_Into_Darkness.npy\")"
   ]
  },
  {
   "cell_type": "code",
   "execution_count": 111,
   "metadata": {},
   "outputs": [],
   "source": [
    "train_test_range = []\n",
    "train_test_range.append([int(metroSystem.shape[0]/10), metroSystem.shape[0]-int(metroSystem.shape[0]/10)])\n",
    "train_test_range.append([int(louisCardinals.shape[0]/10), louisCardinals.shape[0]-int(louisCardinals.shape[0]/10)])\n",
    "train_test_range.append([int(starTrekIntoDarkness.shape[0]/10), starTrekIntoDarkness.shape[0]-int(starTrekIntoDarkness.shape[0]/10)])"
   ]
  },
  {
   "cell_type": "code",
   "execution_count": 112,
   "metadata": {},
   "outputs": [],
   "source": [
    "train_test_range = np.array(train_test_range)"
   ]
  },
  {
   "cell_type": "code",
   "execution_count": 113,
   "metadata": {},
   "outputs": [
    {
     "data": {
      "text/plain": [
       "array([[ 39, 357],\n",
       "       [ 33, 304],\n",
       "       [ 41, 378]])"
      ]
     },
     "execution_count": 113,
     "metadata": {},
     "output_type": "execute_result"
    }
   ],
   "source": [
    "train_test_range"
   ]
  },
  {
   "cell_type": "code",
   "execution_count": 114,
   "metadata": {},
   "outputs": [],
   "source": [
    "training_samples = []\n",
    "training_labels = []\n",
    "testing_samples = []\n",
    "testing_labels = []"
   ]
  },
  {
   "cell_type": "code",
   "execution_count": 115,
   "metadata": {},
   "outputs": [],
   "source": [
    "training_samples.extend(metroSystem[:train_test_range[0][0]])\n",
    "training_labels.extend(metroSystemLabel[:train_test_range[0][0]])\n",
    "testing_samples.extend(metroSystem[train_test_range[0][0]:])\n",
    "testing_labels.extend(metroSystemLabel[train_test_range[0][0]:])\n",
    "\n",
    "training_samples.extend(louisCardinals[:train_test_range[1][0]])\n",
    "training_labels.extend(louisCardinalsLabel[:train_test_range[1][0]])\n",
    "testing_samples.extend(louisCardinals[train_test_range[1][0]:])\n",
    "testing_labels.extend(louisCardinalsLabel[train_test_range[1][0]:])\n",
    "\n",
    "training_samples.extend(starTrekIntoDarkness[:train_test_range[2][0]])\n",
    "training_labels.extend(starTrekIntoDarknessLabel[:train_test_range[2][0]])\n",
    "testing_samples.extend(starTrekIntoDarkness[train_test_range[2][0]:])\n",
    "testing_labels.extend(starTrekIntoDarknessLabel[train_test_range[2][0]:])"
   ]
  },
  {
   "cell_type": "code",
   "execution_count": 116,
   "metadata": {},
   "outputs": [],
   "source": [
    "training_samples, training_labels, testing_samples, testing_labels = np.array(training_samples), np.array(training_labels), np.array(testing_samples), np.array(testing_labels)"
   ]
  },
  {
   "cell_type": "code",
   "execution_count": 117,
   "metadata": {},
   "outputs": [
    {
     "data": {
      "text/plain": [
       "((113, 2), (113,), (1039, 2), (1039,))"
      ]
     },
     "execution_count": 117,
     "metadata": {},
     "output_type": "execute_result"
    }
   ],
   "source": [
    "training_samples.shape, training_labels.shape, testing_samples.shape, testing_labels.shape"
   ]
  },
  {
   "cell_type": "code",
   "execution_count": 118,
   "metadata": {},
   "outputs": [],
   "source": [
    "def oneHotEncoding(X, dim, _type=None):\n",
    "    X_enc = []\n",
    "    for _x in X:\n",
    "        _x_enc = np.zeros((dim,), dtype=int)\n",
    "        if _type == 'time':\n",
    "            oneHotInd = datetime.utcfromtimestamp(_x).hour\n",
    "        else:\n",
    "            oneHotInd = int(_x)\n",
    "        _x_enc[oneHotInd] = 1\n",
    "        X_enc.append(_x_enc.tolist())\n",
    "    return np.array(X_enc)"
   ]
  },
  {
   "cell_type": "code",
   "execution_count": 119,
   "metadata": {},
   "outputs": [],
   "source": [
    "_train_act_info = oneHotEncoding(training_samples[:,1], 2)\n",
    "_train_time_info = oneHotEncoding(training_samples[:,0], 24, 'time')\n",
    "training_samples = np.concatenate((_train_act_info, _train_time_info), axis=1)"
   ]
  },
  {
   "cell_type": "code",
   "execution_count": 120,
   "metadata": {},
   "outputs": [],
   "source": [
    "_test_act_info = oneHotEncoding(testing_samples[:,1], 2)\n",
    "_test_time_info = oneHotEncoding(testing_samples[:,0], 24, 'time')\n",
    "testing_samples = np.concatenate((_test_act_info, _test_time_info), axis=1)"
   ]
  },
  {
   "cell_type": "code",
   "execution_count": 121,
   "metadata": {},
   "outputs": [
    {
     "data": {
      "text/plain": [
       "((113, 26), (1039, 26))"
      ]
     },
     "execution_count": 121,
     "metadata": {},
     "output_type": "execute_result"
    }
   ],
   "source": [
    "training_samples.shape, testing_samples.shape"
   ]
  },
  {
   "cell_type": "code",
   "execution_count": 123,
   "metadata": {},
   "outputs": [
    {
     "name": "stdout",
     "output_type": "stream",
     "text": [
      "Test on 357 samples:\n",
      "Avg. detect + update time per timestep = 0.027938 [sec]Test on 304 samples:\n",
      "Avg. detect + update time per timestep = 0.032174 [sec]Test on 378 samples:\n",
      "Avg. detect + update time per timestep = 0.033666 [sec]"
     ]
    }
   ],
   "source": [
    "y_true, y_pred, scores = runADMES(training_samples, training_labels, testing_samples, testing_labels, 1, train_test_range)"
   ]
  },
  {
   "cell_type": "code",
   "execution_count": 124,
   "metadata": {},
   "outputs": [
    {
     "name": "stdout",
     "output_type": "stream",
     "text": [
      "precision = 0.384615\n",
      "recall = 0.434783\n",
      "F1 = 0.408163\n",
      "AUC = 0.752204\n"
     ]
    },
    {
     "data": {
      "image/png": "[encoded data removed]",
      "text/plain": [
       "<Figure size 396x216 with 1 Axes>"
      ]
     },
     "metadata": {
      "needs_background": "light"
     },
     "output_type": "display_data"
    }
   ],
   "source": [
    "show_result(y_true, y_pred, scores)"
   ]
  },
  {
   "cell_type": "code",
   "execution_count": 125,
   "metadata": {},
   "outputs": [],
   "source": [
    "np.save(\"./baselines/Global_wiki\",scores)"
   ]
  },
  {
   "cell_type": "code",
   "execution_count": 126,
   "metadata": {},
   "outputs": [
    {
     "name": "stdout",
     "output_type": "stream",
     "text": [
      "Test on 357 samples:\n",
      "Avg. detect + update time per timestep = 0.145560 [sec]Test on 304 samples:\n",
      "Avg. detect + update time per timestep = 0.040538 [sec]Test on 378 samples:\n",
      "Avg. detect + update time per timestep = 0.037374 [sec]"
     ]
    }
   ],
   "source": [
    "y_true, y_pred, scores = runADMES(training_samples, training_labels, testing_samples, testing_labels, 2, train_test_range)"
   ]
  },
  {
   "cell_type": "code",
   "execution_count": 127,
   "metadata": {},
   "outputs": [
    {
     "name": "stdout",
     "output_type": "stream",
     "text": [
      "precision = 0.384615\n",
      "recall = 0.434783\n",
      "F1 = 0.408163\n",
      "AUC = 0.752075\n"
     ]
    },
    {
     "data": {
      "image/png": "[encoded data removed]",
      "text/plain": [
       "<Figure size 396x216 with 1 Axes>"
      ]
     },
     "metadata": {
      "needs_background": "light"
     },
     "output_type": "display_data"
    }
   ],
   "source": [
    "show_result(y_true, y_pred, scores)"
   ]
  },
  {
   "cell_type": "code",
   "execution_count": 128,
   "metadata": {},
   "outputs": [],
   "source": [
    "np.save(\"./baselines/ADeMS_wiki\", scores)"
   ]
  },
  {
   "cell_type": "code",
   "execution_count": 129,
   "metadata": {},
   "outputs": [
    {
     "name": "stdout",
     "output_type": "stream",
     "text": [
      "Test on 357 samples:\n",
      "Avg. detect + update time per timestep = 0.028390 [sec]Test on 304 samples:\n",
      "Avg. detect + update time per timestep = 0.030652 [sec]Test on 378 samples:\n",
      "Avg. detect + update time per timestep = 0.036640 [sec]"
     ]
    }
   ],
   "source": [
    "y_true, y_pred, scores = runADMES(training_samples, training_labels, testing_samples, testing_labels, 3, train_test_range)"
   ]
  },
  {
   "cell_type": "code",
   "execution_count": 130,
   "metadata": {},
   "outputs": [
    {
     "name": "stdout",
     "output_type": "stream",
     "text": [
      "precision = 0.384615\n",
      "recall = 0.434783\n",
      "F1 = 0.408163\n",
      "AUC = 0.752204\n"
     ]
    },
    {
     "data": {
      "image/png": "[encoded data removed]",
      "text/plain": [
       "<Figure size 396x216 with 1 Axes>"
      ]
     },
     "metadata": {
      "needs_background": "light"
     },
     "output_type": "display_data"
    }
   ],
   "source": [
    "show_result(y_true, y_pred, scores)"
   ]
  },
  {
   "cell_type": "code",
   "execution_count": 131,
   "metadata": {},
   "outputs": [],
   "source": [
    "np.save(\"./baselines/RandADeMS_wiki.npy\",scores)"
   ]
  },
  {
   "cell_type": "code",
   "execution_count": null,
   "metadata": {},
   "outputs": [],
   "source": []
  },
  {
   "cell_type": "code",
   "execution_count": null,
   "metadata": {},
   "outputs": [],
   "source": []
  },
  {
   "cell_type": "markdown",
   "metadata": {},
   "source": [
    "##### Iso forest"
   ]
  },
  {
   "cell_type": "code",
   "execution_count": 17,
   "metadata": {},
   "outputs": [],
   "source": [
    "import os\n",
    "import sys\n",
    "import numpy as np\n",
    "import time\n",
    "import json\n",
    "import random\n",
    "import matplotlib.pyplot as plt\n",
    "from sklearn.metrics import roc_curve, auc\n",
    "from collections import defaultdict\n",
    "from matplotlib.pyplot import axvline\n",
    "import math\n",
    "from sklearn.metrics import precision_recall_curve\n",
    "from sklearn.metrics import average_precision_score\n",
    "import matplotlib.pyplot as plt\n",
    "from inspect import signature\n",
    "from collections import Counter, defaultdict\n",
    "from sklearn.ensemble import IsolationForest\n",
    "from sklearn.neighbors import LocalOutlierFactor\n",
    "import pickle\n",
    "import datetime\n",
    "import seaborn as sns"
   ]
  },
  {
   "cell_type": "code",
   "execution_count": 132,
   "metadata": {},
   "outputs": [
    {
     "data": {
      "text/plain": [
       "((113, 26), (1039, 26))"
      ]
     },
     "execution_count": 132,
     "metadata": {},
     "output_type": "execute_result"
    }
   ],
   "source": [
    "training_samples.shape, testing_samples.shape"
   ]
  },
  {
   "cell_type": "code",
   "execution_count": 133,
   "metadata": {},
   "outputs": [],
   "source": [
    "clf_isolationforest = IsolationForest()"
   ]
  },
  {
   "cell_type": "code",
   "execution_count": 134,
   "metadata": {},
   "outputs": [
    {
     "name": "stderr",
     "output_type": "stream",
     "text": [
      "/Users/panpanzheng/anaconda3/lib/python3.7/site-packages/sklearn/ensemble/iforest.py:237: FutureWarning: default contamination parameter 0.1 will change in version 0.22 to \"auto\". This will change the predict method behavior.\n",
      "  FutureWarning)\n",
      "/Users/panpanzheng/anaconda3/lib/python3.7/site-packages/sklearn/ensemble/iforest.py:247: FutureWarning: behaviour=\"old\" is deprecated and will be removed in version 0.22. Please use behaviour=\"new\", which makes the decision_function change to match other anomaly detection algorithm API.\n",
      "  FutureWarning)\n"
     ]
    },
    {
     "data": {
      "text/plain": [
       "IsolationForest(behaviour='old', bootstrap=False, contamination='legacy',\n",
       "                max_features=1.0, max_samples='auto', n_estimators=100,\n",
       "                n_jobs=None, random_state=None, verbose=0, warm_start=False)"
      ]
     },
     "execution_count": 134,
     "metadata": {},
     "output_type": "execute_result"
    }
   ],
   "source": [
    "# training_samples = np.load(\"./baselines/training_samples.npy\")\n",
    "clf_isolationforest.fit(training_samples)"
   ]
  },
  {
   "cell_type": "code",
   "execution_count": 135,
   "metadata": {},
   "outputs": [],
   "source": [
    "# testing_samples = np.load(\"./baselines/testing_samples.npy\")\n",
    "wiki_oppo_iso_score_90 = clf_isolationforest.score_samples(testing_samples)"
   ]
  },
  {
   "cell_type": "code",
   "execution_count": 136,
   "metadata": {},
   "outputs": [],
   "source": [
    "np.save(\"./baselines/wiki_oppo_iso_score_90\", wiki_oppo_iso_score_90)"
   ]
  },
  {
   "cell_type": "markdown",
   "metadata": {},
   "source": [
    "#####  Local outlier"
   ]
  },
  {
   "cell_type": "code",
   "execution_count": 137,
   "metadata": {},
   "outputs": [],
   "source": [
    "clf_localoutlierfactor = LocalOutlierFactor(n_neighbors=20, contamination=0.1, novelty=True)"
   ]
  },
  {
   "cell_type": "code",
   "execution_count": 138,
   "metadata": {},
   "outputs": [
    {
     "data": {
      "text/plain": [
       "LocalOutlierFactor(algorithm='auto', contamination=0.1, leaf_size=30,\n",
       "                   metric='minkowski', metric_params=None, n_jobs=None,\n",
       "                   n_neighbors=20, novelty=True, p=2)"
      ]
     },
     "execution_count": 138,
     "metadata": {},
     "output_type": "execute_result"
    }
   ],
   "source": [
    "clf_localoutlierfactor.fit(training_samples)"
   ]
  },
  {
   "cell_type": "code",
   "execution_count": 139,
   "metadata": {},
   "outputs": [],
   "source": [
    "wiki_oppo_local_score_90 = clf_localoutlierfactor.decision_function(testing_samples)"
   ]
  },
  {
   "cell_type": "code",
   "execution_count": 140,
   "metadata": {},
   "outputs": [],
   "source": [
    "np.save(\"./baselines/wiki_oppo_local_score_90\", wiki_oppo_local_score_90)"
   ]
  },
  {
   "cell_type": "code",
   "execution_count": 141,
   "metadata": {},
   "outputs": [],
   "source": [
    "np.save(\"./baselines/wiki_testing_labels\", testing_labels)"
   ]
  },
  {
   "cell_type": "code",
   "execution_count": null,
   "metadata": {},
   "outputs": [],
   "source": []
  }
 ],
 "metadata": {
  "kernelspec": {
   "display_name": "Python 3",
   "language": "python",
   "name": "python3"
  },
  "language_info": {
   "codemirror_mode": {
    "name": "ipython",
    "version": 3
   },
   "file_extension": ".py",
   "mimetype": "text/x-python",
   "name": "python",
   "nbconvert_exporter": "python",
   "pygments_lexer": "ipython3",
   "version": "3.7.3"
  }
 },
 "nbformat": 4,
 "nbformat_minor": 1
}
